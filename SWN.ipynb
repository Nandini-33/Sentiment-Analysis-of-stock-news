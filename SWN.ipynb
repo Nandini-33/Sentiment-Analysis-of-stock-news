{
 "cells": [
  {
   "cell_type": "code",
   "execution_count": 1,
   "id": "c2d18f3a",
   "metadata": {},
   "outputs": [],
   "source": [
    "import pandas as pd\n",
    "df=pd.read_csv('try.csv')"
   ]
  },
  {
   "cell_type": "code",
   "execution_count": 2,
   "id": "42c1c6a9",
   "metadata": {},
   "outputs": [
    {
     "name": "stderr",
     "output_type": "stream",
     "text": [
      "[nltk_data] Downloading package punkt to\n",
      "[nltk_data]     /Users/nandiniupadhyay/nltk_data...\n",
      "[nltk_data]   Package punkt is already up-to-date!\n",
      "[nltk_data] Downloading package stopwords to\n",
      "[nltk_data]     /Users/nandiniupadhyay/nltk_data...\n",
      "[nltk_data]   Package stopwords is already up-to-date!\n",
      "[nltk_data] Downloading package wordnet to\n",
      "[nltk_data]     /Users/nandiniupadhyay/nltk_data...\n",
      "[nltk_data]   Package wordnet is already up-to-date!\n"
     ]
    },
    {
     "data": {
      "text/plain": [
       "True"
      ]
     },
     "execution_count": 2,
     "metadata": {},
     "output_type": "execute_result"
    }
   ],
   "source": [
    "import re\n",
    "from nltk.corpus import stopwords\n",
    "from nltk.tokenize import word_tokenize\n",
    "from nltk.stem import WordNetLemmatizer\n",
    "\n",
    "import nltk\n",
    "nltk.download('punkt')\n",
    "nltk.download('stopwords')\n",
    "nltk.download('wordnet')"
   ]
  },
  {
   "cell_type": "code",
   "execution_count": 3,
   "id": "697aa222",
   "metadata": {},
   "outputs": [
    {
     "data": {
      "text/html": [
       "<div>\n",
       "<style scoped>\n",
       "    .dataframe tbody tr th:only-of-type {\n",
       "        vertical-align: middle;\n",
       "    }\n",
       "\n",
       "    .dataframe tbody tr th {\n",
       "        vertical-align: top;\n",
       "    }\n",
       "\n",
       "    .dataframe thead th {\n",
       "        text-align: right;\n",
       "    }\n",
       "</style>\n",
       "<table border=\"1\" class=\"dataframe\">\n",
       "  <thead>\n",
       "    <tr style=\"text-align: right;\">\n",
       "      <th></th>\n",
       "      <th>Unnamed: 0</th>\n",
       "      <th>ticker</th>\n",
       "      <th>date</th>\n",
       "      <th>time</th>\n",
       "      <th>title</th>\n",
       "      <th>cleaned_title</th>\n",
       "    </tr>\n",
       "  </thead>\n",
       "  <tbody>\n",
       "    <tr>\n",
       "      <th>0</th>\n",
       "      <td>0</td>\n",
       "      <td>AMZN</td>\n",
       "      <td>Feb-19-25</td>\n",
       "      <td>07:56AM</td>\n",
       "      <td>Amazon joins forces with Memorial Sloan Ketter...</td>\n",
       "      <td>amazon join force memorial sloan kettering aip...</td>\n",
       "    </tr>\n",
       "    <tr>\n",
       "      <th>1</th>\n",
       "      <td>1</td>\n",
       "      <td>AMZN</td>\n",
       "      <td>Feb-19-25</td>\n",
       "      <td>06:38AM</td>\n",
       "      <td>Amazon $100B AI Investment Stumbles Amid Suppl...</td>\n",
       "      <td>amazon b ai investment stumble amid supply hurdle</td>\n",
       "    </tr>\n",
       "    <tr>\n",
       "      <th>2</th>\n",
       "      <td>2</td>\n",
       "      <td>AMZN</td>\n",
       "      <td>Feb-19-25</td>\n",
       "      <td>06:14AM</td>\n",
       "      <td>Can Oracle (ORCL) Capitalize on the $500B AI S...</td>\n",
       "      <td>oracle orcl capitalize b ai stargate bonanza</td>\n",
       "    </tr>\n",
       "    <tr>\n",
       "      <th>3</th>\n",
       "      <td>3</td>\n",
       "      <td>AMZN</td>\n",
       "      <td>Feb-19-25</td>\n",
       "      <td>05:30AM</td>\n",
       "      <td>Better Artificial Intelligence Stock: Rigetti ...</td>\n",
       "      <td>better artificial intelligence stock rigetti c...</td>\n",
       "    </tr>\n",
       "    <tr>\n",
       "      <th>4</th>\n",
       "      <td>4</td>\n",
       "      <td>AMZN</td>\n",
       "      <td>Feb-19-25</td>\n",
       "      <td>05:00AM</td>\n",
       "      <td>Amazon, Disney, Starbucks and 5 other big comp...</td>\n",
       "      <td>amazon disney starbucks big company help pay e...</td>\n",
       "    </tr>\n",
       "  </tbody>\n",
       "</table>\n",
       "</div>"
      ],
      "text/plain": [
       "   Unnamed: 0 ticker       date     time  \\\n",
       "0           0   AMZN  Feb-19-25  07:56AM   \n",
       "1           1   AMZN  Feb-19-25  06:38AM   \n",
       "2           2   AMZN  Feb-19-25  06:14AM   \n",
       "3           3   AMZN  Feb-19-25  05:30AM   \n",
       "4           4   AMZN  Feb-19-25  05:00AM   \n",
       "\n",
       "                                               title  \\\n",
       "0  Amazon joins forces with Memorial Sloan Ketter...   \n",
       "1  Amazon $100B AI Investment Stumbles Amid Suppl...   \n",
       "2  Can Oracle (ORCL) Capitalize on the $500B AI S...   \n",
       "3  Better Artificial Intelligence Stock: Rigetti ...   \n",
       "4  Amazon, Disney, Starbucks and 5 other big comp...   \n",
       "\n",
       "                                       cleaned_title  \n",
       "0  amazon join force memorial sloan kettering aip...  \n",
       "1  amazon b ai investment stumble amid supply hurdle  \n",
       "2       oracle orcl capitalize b ai stargate bonanza  \n",
       "3  better artificial intelligence stock rigetti c...  \n",
       "4  amazon disney starbucks big company help pay e...  "
      ]
     },
     "execution_count": 3,
     "metadata": {},
     "output_type": "execute_result"
    }
   ],
   "source": [
    "titles=df['title'].tolist()\n",
    "cleaned_titles=[]\n",
    "# Define the lemmatizer and stopwords\n",
    "lemmatizer = WordNetLemmatizer()\n",
    "stop_words = set(stopwords.words(\"english\"))\n",
    "\n",
    "# Preprocessing function\n",
    "for text in titles:\n",
    "    # Lowercase the text\n",
    "    text = text.lower()\n",
    "    \n",
    "    # Remove punctuation and special characters\n",
    "    text = re.sub(r'[^a-zA-Z\\s]', '', text)\n",
    "      \n",
    "    # Tokenize the text\n",
    "    tokens = word_tokenize(text)\n",
    "    \n",
    "    # Remove stopwords and lemmatize each word\n",
    "    tokens = [lemmatizer.lemmatize(word) for word in tokens if word not in stop_words]\n",
    "    \n",
    "    # Join tokens back into a single string\n",
    "    preprocessed_text = \" \".join(tokens)\n",
    "    \n",
    "    cleaned_titles.append(preprocessed_text)\n",
    "\n",
    "# Add the cleaned titles back to the DataFrame\n",
    "df['cleaned_title'] = cleaned_titles\n",
    "\n",
    "# Display the DataFrame\n",
    "df.head()"
   ]
  },
  {
   "cell_type": "code",
   "execution_count": 4,
   "id": "642b533d",
   "metadata": {},
   "outputs": [
    {
     "name": "stderr",
     "output_type": "stream",
     "text": [
      "[nltk_data] Downloading package sentiwordnet to\n",
      "[nltk_data]     /Users/nandiniupadhyay/nltk_data...\n",
      "[nltk_data]   Package sentiwordnet is already up-to-date!\n",
      "[nltk_data] Downloading package averaged_perceptron_tagger to\n",
      "[nltk_data]     /Users/nandiniupadhyay/nltk_data...\n",
      "[nltk_data]   Package averaged_perceptron_tagger is already up-to-\n",
      "[nltk_data]       date!\n"
     ]
    },
    {
     "data": {
      "text/plain": [
       "True"
      ]
     },
     "execution_count": 4,
     "metadata": {},
     "output_type": "execute_result"
    }
   ],
   "source": [
    "from nltk.corpus import sentiwordnet as swn\n",
    "from nltk.corpus import wordnet\n",
    "nltk.download('sentiwordnet')\n",
    "nltk.download('averaged_perceptron_tagger')"
   ]
  },
  {
   "cell_type": "code",
   "execution_count": 5,
   "id": "363b0253",
   "metadata": {},
   "outputs": [],
   "source": [
    "def get_wordnet_pos(nltk_tag):\n",
    "    if nltk_tag.startswith('J'):\n",
    "        return wordnet.ADJ\n",
    "    elif nltk_tag.startswith('V'):\n",
    "        return wordnet.VERB\n",
    "    elif nltk_tag.startswith('N'):\n",
    "        return wordnet.NOUN\n",
    "    elif nltk_tag.startswith('R'):\n",
    "        return wordnet.ADV\n",
    "    else:\n",
    "        return None\n",
    "from sklearn.feature_extraction.text import TfidfVectorizer\n",
    "vectorizer = TfidfVectorizer()\n",
    "lemmatizer = WordNetLemmatizer()\n",
    "X_tfidf = vectorizer.fit_transform(df['title'])\n",
    "tfidf_feature_names = (vectorizer.get_feature_names_out())\n",
    "\n",
    "def calculate_weighted_sentiment_score(text, tfidf_vector):\n",
    "    tokens = word_tokenize(text)\n",
    "    pos_tags = nltk.pos_tag(tokens)\n",
    "    weighted_score = 0\n",
    "\n",
    "    for idx, (word, tag) in enumerate(pos_tags):\n",
    "        # Get WordNet POS tag and lemmatize the word\n",
    "        wn_tag = get_wordnet_pos(tag)\n",
    "        if wn_tag:  # Only proceed if POS tag is recognized\n",
    "            lemma = lemmatizer.lemmatize(word, pos=wn_tag)\n",
    "\n",
    "            # Get SentiWordNet scores\n",
    "            synsets = list(swn.senti_synsets(lemma, wn_tag))\n",
    "            if synsets:\n",
    "                # Take the first synset as the representative score\n",
    "                synset = synsets[0]\n",
    "                sentiment_score = synset.pos_score() - synset.neg_score()\n",
    "                \n",
    "                if word in tfidf_feature_names:\n",
    "                    \n",
    "                    tfidf_index = tfidf_feature_names.tolist().index(word)\n",
    "                    tfidf_value = tfidf_vector[tfidf_index]\n",
    "\n",
    "                    # Multiply sentiment score by TF-IDF weight\n",
    "                    weighted_score += sentiment_score * tfidf_value \n",
    "\n",
    "    return weighted_score\n",
    "\n",
    "#Apply the weighted sentiment score calculation for each title\n",
    "weighted_scores = []\n",
    "for i, title in enumerate(df['title']):\n",
    "    tfidf_vector = X_tfidf[i].toarray().flatten()\n",
    "    weighted_score = calculate_weighted_sentiment_score(title, tfidf_vector)\n",
    "    weighted_scores.append(weighted_score)\n",
    "\n",
    "# Add weighted scores to DataFrame\n",
    "df['weighted_sentiment_score'] = weighted_scores\n",
    "\n",
    "#Assign labels based on the weighted sentiment score\n",
    "def assign_sentiment_label(score):\n",
    "    if score >= 0:\n",
    "        return 'positive'\n",
    "    else:\n",
    "        return 'negative'\n",
    "    \n",
    "df['sentiment_label'] = df['weighted_sentiment_score'].apply(assign_sentiment_label)\n",
    "\n",
    "print(df[['title', 'weighted_sentiment_score', 'sentiment_label']])"
   ]
  },
  {
   "cell_type": "code",
   "execution_count": 14,
   "id": "10fe7dd3",
   "metadata": {},
   "outputs": [],
   "source": [
    "from sklearn.feature_extraction.text import TfidfVectorizer\n",
    "vectorizer = TfidfVectorizer()\n",
    "lemmatizer = WordNetLemmatizer()\n",
    "\n",
    "X_tfidf = vectorizer.fit_transform(df['title'])\n",
    "# tfidf_feature_names = vectorizer.get_feature_names_out()\n",
    "tfidf_feature_names = (vectorizer.get_feature_names_out())[:500] \n",
    "\n"
   ]
  },
  {
   "cell_type": "code",
   "execution_count": 15,
   "id": "044e56f6",
   "metadata": {},
   "outputs": [
    {
     "name": "stdout",
     "output_type": "stream",
     "text": [
      "                                                  title  \\\n",
      "0     Amazon joins forces with Memorial Sloan Ketter...   \n",
      "1     Amazon $100B AI Investment Stumbles Amid Suppl...   \n",
      "2     Can Oracle (ORCL) Capitalize on the $500B AI S...   \n",
      "3     Better Artificial Intelligence Stock: Rigetti ...   \n",
      "4     Amazon, Disney, Starbucks and 5 other big comp...   \n",
      "...                                                 ...   \n",
      "2995  Trump has 'constructive call' with Vietnam, li...   \n",
      "2996  Top Stock Movers Now: Boeing, DuPont, Tesla, a...   \n",
      "2997  Trump Says Vietnam Wants to Cut Its Tariffs to...   \n",
      "2998  Jim Cramer on Nike (NKE): \"They've Lost Their ...   \n",
      "2999  Wall Street hunts for cheap tariff-proof stock...   \n",
      "\n",
      "      weighted_sentiment_score sentiment_label  \n",
      "0                          0.0        positive  \n",
      "1                          0.0        positive  \n",
      "2                          0.0        positive  \n",
      "3                          0.0        positive  \n",
      "4                          0.0        positive  \n",
      "...                        ...             ...  \n",
      "2995                       0.0        positive  \n",
      "2996                       0.0        positive  \n",
      "2997                       0.0        positive  \n",
      "2998                       0.0        positive  \n",
      "2999                       0.0        positive  \n",
      "\n",
      "[3000 rows x 3 columns]\n"
     ]
    }
   ],
   "source": [
    "def calculate_weighted_sentiment_score(text, tfidf_vector):\n",
    "    tokens = word_tokenize(text)\n",
    "    pos_tags = nltk.pos_tag(tokens)\n",
    "    weighted_score = 0\n",
    "\n",
    "    for idx, (word, tag) in enumerate(pos_tags):\n",
    "        # Get WordNet POS tag and lemmatize the word\n",
    "        wn_tag = get_wordnet_pos(tag)\n",
    "        if wn_tag:  # Only proceed if POS tag is recognized\n",
    "            lemma = lemmatizer.lemmatize(word, pos=wn_tag)\n",
    "\n",
    "            # Get SentiWordNet scores\n",
    "            synsets = list(swn.senti_synsets(lemma, wn_tag))\n",
    "            if synsets:\n",
    "                # Take the first synset as the representative score\n",
    "                synset = synsets[0]\n",
    "                sentiment_score = synset.pos_score() - synset.neg_score()\n",
    "                \n",
    "                if word in tfidf_feature_names:\n",
    "                    \n",
    "                    tfidf_index = tfidf_feature_names.tolist().index(word)\n",
    "                    tfidf_value = tfidf_vector[tfidf_index]\n",
    "\n",
    "                    # Multiply sentiment score by TF-IDF weight\n",
    "                    weighted_score += sentiment_score * tfidf_value \n",
    "\n",
    "    return weighted_score\n",
    "\n",
    "# Step 3: Apply the weighted sentiment score calculation for each title\n",
    "weighted_scores = []\n",
    "for i, title in enumerate(df['title']):\n",
    "    tfidf_vector = X_tfidf[i].toarray().flatten()\n",
    "    weighted_score = calculate_weighted_sentiment_score(title, tfidf_vector)\n",
    "    weighted_scores.append(weighted_score)\n",
    "\n",
    "# Add weighted scores to DataFrame\n",
    "df['weighted_sentiment_score'] = weighted_scores\n",
    "\n",
    "# Step 4: Assign labels based on the weighted sentiment score\n",
    "def assign_sentiment_label(score):\n",
    "    if score >= 0:\n",
    "        return 'positive'\n",
    "    else:\n",
    "        return 'negative'\n",
    "    \n",
    "\n",
    "df['sentiment_label'] = df['weighted_sentiment_score'].apply(assign_sentiment_label)\n",
    "\n",
    "# Display the DataFrame with scores and labels\n",
    "print(df[['title', 'weighted_sentiment_score', 'sentiment_label']])"
   ]
  },
  {
   "cell_type": "code",
   "execution_count": 16,
   "id": "37ca6855",
   "metadata": {},
   "outputs": [
    {
     "name": "stdout",
     "output_type": "stream",
     "text": [
      "                                          cleaned_title     label\n",
      "0     amazon join force memorial sloan kettering aip...  positive\n",
      "1     amazon b ai investment stumble amid supply hurdle  positive\n",
      "2          oracle orcl capitalize b ai stargate bonanza  positive\n",
      "3     better artificial intelligence stock rigetti c...  positive\n",
      "4     amazon disney starbucks big company help pay e...  positive\n",
      "...                                                 ...       ...\n",
      "2995  trump constructive call vietnam lifting nike o...  positive\n",
      "2996                top stock mover boeing dupont tesla  positive\n",
      "2997             trump say vietnam want cut tariff zero  negative\n",
      "2998       jim cramer nike nke theyve lost edge running  negative\n",
      "2999   wall street hunt cheap tariffproof stock carnage  positive\n",
      "\n",
      "[3000 rows x 2 columns]\n"
     ]
    },
    {
     "name": "stderr",
     "output_type": "stream",
     "text": [
      "[nltk_data] Downloading package vader_lexicon to\n",
      "[nltk_data]     /Users/nandiniupadhyay/nltk_data...\n",
      "[nltk_data]   Package vader_lexicon is already up-to-date!\n"
     ]
    }
   ],
   "source": [
    "from nltk.sentiment.vader import SentimentIntensityAnalyzer\n",
    "import nltk\n",
    "# Initialize VADER Sentiment Intensity Analyzer\n",
    "sia = SentimentIntensityAnalyzer()\n",
    "\n",
    "# Function to assign sentiment labels\n",
    "def assign_sentiment(text):\n",
    "    score = sia.polarity_scores(text)['compound']\n",
    "    if score >=0:\n",
    "        return 'positive'\n",
    "    else:\n",
    "        return 'negative'\n",
    "\n",
    "# Apply the function to the 'cleaned_title' column\n",
    "df['label'] = df['cleaned_title'].apply(assign_sentiment)\n",
    "\n",
    "# Display the DataFrame with sentiment labels\n",
    "print(df[['cleaned_title', 'label']])\n"
   ]
  },
  {
   "cell_type": "code",
   "execution_count": 17,
   "id": "11971649",
   "metadata": {},
   "outputs": [
    {
     "name": "stdout",
     "output_type": "stream",
     "text": [
      "Accuracy: 0.8153333333333334\n",
      "Precision: 0.82\n",
      "Recall: 1.00\n",
      "F1-Score: 0.90\n"
     ]
    }
   ],
   "source": [
    "from sklearn.metrics import accuracy_score, recall_score,precision_score, f1_score\n",
    "print(\"Accuracy:\", accuracy_score(df['label'], df['sentiment_label']))\n",
    "precision = precision_score(df['label'], df['sentiment_label'], average='binary',pos_label='positive')\n",
    "recall = recall_score(df['label'], df['sentiment_label'], average='binary',pos_label='positive')\n",
    "f1 = f1_score(df['label'], df['sentiment_label'], average='binary',pos_label='positive')\n",
    "print(f\"Precision: {precision:.2f}\")\n",
    "print(f\"Recall: {recall:.2f}\")\n",
    "print(f\"F1-Score: {f1:.2f}\")"
   ]
  },
  {
   "cell_type": "code",
   "execution_count": 10,
   "id": "87b92487",
   "metadata": {},
   "outputs": [
    {
     "name": "stdout",
     "output_type": "stream",
     "text": [
      "Classification Report:\n",
      "               precision    recall  f1-score   support\n",
      "\n",
      "    negative       0.39      0.18      0.24       551\n",
      "    positive       0.84      0.94      0.88      2449\n",
      "\n",
      "    accuracy                           0.80      3000\n",
      "   macro avg       0.61      0.56      0.56      3000\n",
      "weighted avg       0.75      0.80      0.77      3000\n",
      "\n"
     ]
    }
   ],
   "source": [
    "from sklearn.metrics import classification_report\n",
    "print(\"Classification Report:\\n\", classification_report(df['label'], df['sentiment_label']))"
   ]
  },
  {
   "cell_type": "code",
   "execution_count": 24,
   "id": "49da4a76",
   "metadata": {},
   "outputs": [
    {
     "data": {
      "image/png": "[encoded data removed]",
      "text/plain": [
       "<Figure size 800x600 with 2 Axes>"
      ]
     },
     "metadata": {},
     "output_type": "display_data"
    }
   ],
   "source": [
    "from sklearn.metrics import confusion_matrix, ConfusionMatrixDisplay\n",
    "import seaborn as sns\n",
    "import matplotlib.pyplot as plt\n",
    "import numpy as np\n",
    "\n",
    "# Assuming y_pred_cnn_labels contains the predicted labels from the CNN model\n",
    "# and y_test contains the true labels\n",
    "\n",
    "\n",
    "# Generate the confusion matrix\n",
    "conf_matrix = confusion_matrix(df['label'], df['sentiment_label'])\n",
    "\n",
    "# Plot the confusion matrix\n",
    "plt.figure(figsize=(8, 6))\n",
    "sns.heatmap(conf_matrix, annot=True, fmt='d', cmap='Blues', xticklabels=['negative', 'positive'], yticklabels=['negative', 'positive'])\n",
    "plt.xlabel('Predicted Label')\n",
    "plt.ylabel('True Label')\n",
    "plt.title('Confusion Matrix for Traditional Model')\n",
    "plt.show()"
   ]
  },
  {
   "cell_type": "code",
   "execution_count": null,
   "id": "29d53ee8",
   "metadata": {},
   "outputs": [],
   "source": []
  }
 ],
 "metadata": {
  "kernelspec": {
   "display_name": "Python 3 (ipykernel)",
   "language": "python",
   "name": "python3"
  },
  "language_info": {
   "codemirror_mode": {
    "name": "ipython",
    "version": 3
   },
   "file_extension": ".py",
   "mimetype": "text/x-python",
   "name": "python",
   "nbconvert_exporter": "python",
   "pygments_lexer": "ipython3",
   "version": "3.11.3"
  }
 },
 "nbformat": 4,
 "nbformat_minor": 5
}
